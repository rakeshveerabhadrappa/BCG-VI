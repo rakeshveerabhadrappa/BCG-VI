{
  "nbformat": 4,
  "nbformat_minor": 0,
  "metadata": {
    "colab": {
      "provenance": [],
      "authorship_tag": "ABX9TyOJjPPLbraGSYo0V23WJAXs",
      "include_colab_link": true
    },
    "kernelspec": {
      "name": "python3",
      "display_name": "Python 3"
    },
    "language_info": {
      "name": "python"
    }
  },
  "cells": [
    {
      "cell_type": "markdown",
      "metadata": {
        "id": "view-in-github",
        "colab_type": "text"
      },
      "source": [
        "<a href=\"https://colab.research.google.com/github/rakeshveerabhadrappa/BCG-VI/blob/main/Task3BCGGamma.ipynb\" target=\"_parent\"><img src=\"https://colab.research.google.com/assets/colab-badge.svg\" alt=\"Open In Colab\"/></a>"
      ]
    },
    {
      "cell_type": "code",
      "source": [
        "!pip install --upgrade category_encoders"
      ],
      "metadata": {
        "colab": {
          "base_uri": "https://localhost:8080/"
        },
        "id": "Ld6vBw0qLiWq",
        "outputId": "b67c4fd5-7130-480f-fb09-bb12200049d3"
      },
      "execution_count": 3,
      "outputs": [
        {
          "output_type": "stream",
          "name": "stdout",
          "text": [
            "Looking in indexes: https://pypi.org/simple, https://us-python.pkg.dev/colab-wheels/public/simple/\n",
            "Collecting category_encoders\n",
            "  Downloading category_encoders-2.5.1.post0-py2.py3-none-any.whl (72 kB)\n",
            "\u001b[K     |████████████████████████████████| 72 kB 771 kB/s \n",
            "\u001b[?25hRequirement already satisfied: numpy>=1.14.0 in /usr/local/lib/python3.7/dist-packages (from category_encoders) (1.21.6)\n",
            "Requirement already satisfied: scipy>=1.0.0 in /usr/local/lib/python3.7/dist-packages (from category_encoders) (1.7.3)\n",
            "Requirement already satisfied: pandas>=1.0.5 in /usr/local/lib/python3.7/dist-packages (from category_encoders) (1.3.5)\n",
            "Requirement already satisfied: scikit-learn>=0.20.0 in /usr/local/lib/python3.7/dist-packages (from category_encoders) (1.0.2)\n",
            "Requirement already satisfied: patsy>=0.5.1 in /usr/local/lib/python3.7/dist-packages (from category_encoders) (0.5.2)\n",
            "Requirement already satisfied: statsmodels>=0.9.0 in /usr/local/lib/python3.7/dist-packages (from category_encoders) (0.12.2)\n",
            "Requirement already satisfied: pytz>=2017.3 in /usr/local/lib/python3.7/dist-packages (from pandas>=1.0.5->category_encoders) (2022.4)\n",
            "Requirement already satisfied: python-dateutil>=2.7.3 in /usr/local/lib/python3.7/dist-packages (from pandas>=1.0.5->category_encoders) (2.8.2)\n",
            "Requirement already satisfied: six in /usr/local/lib/python3.7/dist-packages (from patsy>=0.5.1->category_encoders) (1.15.0)\n",
            "Requirement already satisfied: joblib>=0.11 in /usr/local/lib/python3.7/dist-packages (from scikit-learn>=0.20.0->category_encoders) (1.2.0)\n",
            "Requirement already satisfied: threadpoolctl>=2.0.0 in /usr/local/lib/python3.7/dist-packages (from scikit-learn>=0.20.0->category_encoders) (3.1.0)\n",
            "Installing collected packages: category-encoders\n",
            "Successfully installed category-encoders-2.5.1.post0\n"
          ]
        }
      ]
    },
    {
      "cell_type": "code",
      "execution_count": 4,
      "metadata": {
        "id": "PszWH411Kz37"
      },
      "outputs": [],
      "source": [
        "import pandas as pd\n",
        "import numpy as np\n",
        "import matplotlib.pyplot as plt\n",
        "from sklearn.preprocessing import StandardScaler\n",
        "from sklearn.preprocessing import LabelEncoder\n",
        "from sklearn.ensemble import RandomForestClassifier\n",
        "from sklearn.model_selection import train_test_split, cross_val_score, StratifiedKFold\n",
        "from sklearn.metrics import roc_auc_score, precision_score, recall_score, f1_score\n",
        "from sklearn.metrics import classification_report, confusion_matrix, roc_curve, auc\n",
        "import seaborn as sns\n",
        "from category_encoders import OneHotEncoder"
      ]
    },
    {
      "cell_type": "code",
      "source": [
        "url_clientData = 'https://raw.githubusercontent.com/rakeshveerabhadrappa/BCG-VI/main/Data/client_data.csv'\n",
        "clientDf = pd.read_csv(url_clientData)\n",
        "url_priceData = 'https://raw.githubusercontent.com/rakeshveerabhadrappa/BCG-VI/main/Data/price_data.csv'\n",
        "priceDataDf = pd.read_csv(url_priceData)\n"
      ],
      "metadata": {
        "id": "rPEDThklK2TI"
      },
      "execution_count": 5,
      "outputs": []
    },
    {
      "cell_type": "code",
      "source": [
        "def convert2String(x):\n",
        "  return f\"{x} products\" if x <6 else \"over 6 products\"\n",
        "clientDf['nb_prod'] = clientDf['nb_prod_act'].apply(lambda x: convert2String(x))\n",
        "\n",
        "def label_encoder(df):\n",
        "    for i in cat_cols:\n",
        "        le = LabelEncoder()# converts any string-based class information to numerical\n",
        "        df[i] = le.fit_transform(df[i])\n",
        "    return df"
      ],
      "metadata": {
        "id": "mGL8T3oiLBvC"
      },
      "execution_count": 6,
      "outputs": []
    },
    {
      "cell_type": "code",
      "source": [
        "clientDf[\"date_activ\"] = pd.to_datetime(clientDf[\"date_activ\"], format='%Y-%m-%d')\n",
        "clientDf[\"date_end\"] = pd.to_datetime(clientDf[\"date_end\"], format='%Y-%m-%d')\n",
        "clientDf[\"date_modif_prod\"] = pd.to_datetime(clientDf[\"date_modif_prod\"], format='%Y-%m-%d')\n",
        "clientDf[\"date_renewal\"] = pd.to_datetime(clientDf[\"date_renewal\"], format='%Y-%m-%d')\n",
        "priceDataDf['price_date'] = pd.to_datetime(priceDataDf['price_date'], format='%Y-%m-%d')"
      ],
      "metadata": {
        "id": "-YrVJoyyLE0J"
      },
      "execution_count": 7,
      "outputs": []
    },
    {
      "cell_type": "code",
      "source": [
        "mean_year = priceDataDf.groupby(['id']).mean().reset_index()\n",
        "mean_6m = priceDataDf[priceDataDf['price_date'] > '2015-06-01'].groupby(['id']).mean().reset_index()\n",
        "mean_3m = priceDataDf[priceDataDf['price_date'] > '2015-10-01'].groupby(['id']).mean().reset_index()\n",
        "\n",
        "# Comnbine into single dataframe\n",
        "mean_year = mean_year.rename(\n",
        "    index=str, \n",
        "    columns={\n",
        "        \"price_off_peak_var\": \"mean_year_price_p1_var\",\n",
        "        \"price_peak_var\": \"mean_year_price_p2_var\",\n",
        "        \"price_mid_peak_var\": \"mean_year_price_p3_var\",\n",
        "        \"price_off_peak_fix\": \"mean_year_price_p1_fix\",\n",
        "        \"price_peak_fix\": \"mean_year_price_p2_fix\",\n",
        "        \"price_mid_peak_fix\": \"mean_year_price_p3_fix\"\n",
        "    }\n",
        ")\n",
        "\n",
        "mean_year[\"mean_year_price_p1\"] = mean_year[\"mean_year_price_p1_var\"] + mean_year[\"mean_year_price_p1_fix\"]\n",
        "mean_year[\"mean_year_price_p2\"] = mean_year[\"mean_year_price_p2_var\"] + mean_year[\"mean_year_price_p2_fix\"]\n",
        "mean_year[\"mean_year_price_p3\"] = mean_year[\"mean_year_price_p3_var\"] + mean_year[\"mean_year_price_p3_fix\"]\n",
        "\n",
        "mean_6m = mean_6m.rename(\n",
        "    index=str, \n",
        "    columns={\n",
        "        \"price_off_peak_var\": \"mean_6m_price_p1_var\",\n",
        "        \"price_peak_var\": \"mean_6m_price_p2_var\",\n",
        "        \"price_mid_peak_var\": \"mean_6m_price_p3_var\",\n",
        "        \"price_off_peak_fix\": \"mean_6m_price_p1_fix\",\n",
        "        \"price_peak_fix\": \"mean_6m_price_p2_fix\",\n",
        "        \"price_mid_peak_fix\": \"mean_6m_price_p3_fix\"\n",
        "    }\n",
        ")\n",
        "mean_6m[\"mean_6m_price_p1\"] = mean_6m[\"mean_6m_price_p1_var\"] + mean_6m[\"mean_6m_price_p1_fix\"]\n",
        "mean_6m[\"mean_6m_price_p2\"] = mean_6m[\"mean_6m_price_p2_var\"] + mean_6m[\"mean_6m_price_p2_fix\"]\n",
        "mean_6m[\"mean_6m_price_p3\"] = mean_6m[\"mean_6m_price_p3_var\"] + mean_6m[\"mean_6m_price_p3_fix\"]\n",
        "\n",
        "mean_3m = mean_3m.rename(\n",
        "    index=str, \n",
        "    columns={\n",
        "        \"price_off_peak_var\": \"mean_3m_price_p1_var\",\n",
        "        \"price_peak_var\": \"mean_3m_price_p2_var\",\n",
        "        \"price_mid_peak_var\": \"mean_3m_price_p3_var\",\n",
        "        \"price_off_peak_fix\": \"mean_3m_price_p1_fix\",\n",
        "        \"price_peak_fix\": \"mean_3m_price_p2_fix\",\n",
        "        \"price_mid_peak_fix\": \"mean_3m_price_p3_fix\"\n",
        "    }\n",
        ")\n",
        "mean_3m[\"mean_3m_price_p1\"] = mean_3m[\"mean_3m_price_p1_var\"] + mean_3m[\"mean_3m_price_p1_fix\"]\n",
        "mean_3m[\"mean_3m_price_p2\"] = mean_3m[\"mean_3m_price_p2_var\"] + mean_3m[\"mean_3m_price_p2_fix\"]\n",
        "mean_3m[\"mean_3m_price_p3\"] = mean_3m[\"mean_3m_price_p3_var\"] + mean_3m[\"mean_3m_price_p3_fix\"]\n",
        "\n",
        "\n",
        "price_features = pd.merge(mean_year, mean_6m, on='id')\n",
        "price_features = pd.merge(price_features, mean_3m, on='id')"
      ],
      "metadata": {
        "id": "ilNi4PRtLG3Z"
      },
      "execution_count": 8,
      "outputs": []
    },
    {
      "cell_type": "code",
      "source": [
        "price_analysis = pd.merge(price_features, clientDf[['id', 'churn']], on='id')\n",
        "\n",
        "monthly_price_by_id = priceDataDf.groupby(['id', 'price_date']).agg({'price_off_peak_var': 'mean', 'price_off_peak_fix': 'mean'}).reset_index()\n",
        "\n",
        "# Get january and december prices\n",
        "jan_prices = monthly_price_by_id.groupby('id').first().reset_index()\n",
        "dec_prices = monthly_price_by_id.groupby('id').last().reset_index()\n",
        "\n",
        "# Calculate the difference\n",
        "diff = pd.merge(dec_prices.rename(columns={'price_off_peak_var': 'dec_1', 'price_off_peak_fix': 'dec_2'}), jan_prices.drop(columns='price_date'), on='id')\n",
        "diff['offpeak_diff_dec_january_energy'] = diff['dec_1'] - diff['price_off_peak_var']\n",
        "diff['offpeak_diff_dec_january_power'] = diff['dec_2'] - diff['price_off_peak_fix']\n",
        "diff = diff[['id', 'offpeak_diff_dec_january_energy','offpeak_diff_dec_january_power']]\n",
        "\n",
        "price_analysis = pd.merge(price_analysis, diff, on='id')"
      ],
      "metadata": {
        "id": "ZRs12HusLJ2B"
      },
      "execution_count": 9,
      "outputs": []
    },
    {
      "cell_type": "code",
      "source": [
        "corrmat = price_analysis.drop(columns = ['id']).corr().abs()\n",
        "upper_tri = corrmat.where(np.triu(np.ones(corrmat.shape),k=1).astype(np.bool))\n",
        "to_drop = [column for column in upper_tri.columns if any(upper_tri[column] > 0.8)]\n",
        "\n",
        "price_analysis_unCorrelatedFeatures = price_analysis.drop(columns = to_drop)\n",
        "\n",
        "price_analysis_unCorrelatedFeatures =pd.merge(price_analysis_unCorrelatedFeatures, clientDf[['id', 'num_years_antig', 'nb_prod', 'has_gas']], on='id')\n",
        "\n",
        "X = price_analysis_unCorrelatedFeatures.drop(columns = ['id','churn'])\n",
        "y = price_analysis_unCorrelatedFeatures['churn']\n",
        "num_cols = X.select_dtypes(include = ['int64', 'float64']).columns.to_list()\n",
        "cat_cols = X.select_dtypes(include = ['object']).columns.to_list()\n",
        "cat_cols.append('num_years_antig')\n",
        "X = label_encoder(X)\n",
        "X['nb_prod'] = X['nb_prod'].apply(lambda x: convert2String(x))\n",
        "encoder = OneHotEncoder(cols = cat_cols, use_cat_names = True)\n",
        "X_afterOneHot =  encoder.fit_transform(X[X.columns])"
      ],
      "metadata": {
        "colab": {
          "base_uri": "https://localhost:8080/"
        },
        "id": "MLWckwkjLQFU",
        "outputId": "d1f103f1-e488-4473-95d1-0f50ada3b9c6"
      },
      "execution_count": 10,
      "outputs": [
        {
          "output_type": "stream",
          "name": "stderr",
          "text": [
            "/usr/local/lib/python3.7/dist-packages/ipykernel_launcher.py:2: DeprecationWarning: `np.bool` is a deprecated alias for the builtin `bool`. To silence this warning, use `bool` by itself. Doing this will not modify any behavior and is safe. If you specifically wanted the numpy scalar type, use `np.bool_` here.\n",
            "Deprecated in NumPy 1.20; for more details and guidance: https://numpy.org/devdocs/release/1.20.0-notes.html#deprecations\n",
            "  \n"
          ]
        }
      ]
    },
    {
      "cell_type": "code",
      "source": [
        "X = X_afterOneHot\n",
        "\n",
        "results = pd.DataFrame(columns = ['LR', 'RF', 'LGBM', 'XGB'], index = range(4))\n",
        "X_train, X_test, y_train, y_test = train_test_split(X, y, test_size = 0.2, random_state = 22)\n",
        "\n",
        "\n",
        "\n",
        "\n",
        "rf = RandomForestClassifier(random_state = 22, max_depth = 5)\n",
        "rf.fit(X_train, y_train)\n",
        "y_pred = rf.predict(X_test)\n",
        "y_prob = rf.predict_proba(X_test)[:,1]\n",
        "\n",
        "# Metrics\n",
        "results.iloc[0, 1] = round(precision_score(y_test, y_pred), 2)\n",
        "results.iloc[1, 1] = round(recall_score(y_test, y_pred), 2)\n",
        "results.iloc[2, 1] = round(f1_score(y_test, y_pred), 2)\n",
        "results.iloc[3, 1] = round(roc_auc_score(y_test, y_prob), 3)\n",
        "rf_cm = confusion_matrix(y_test, y_pred)\n",
        "\n",
        "print(classification_report(y_test, y_pred))\n",
        "print(f'ROC AUC score: {round(roc_auc_score(y_test, y_prob), 3)}')\n",
        "print('')\n",
        "print('-----------------------------------------------------')\n",
        "print('')\n",
        "print('Cross-validation scores with 5 folds:')\n",
        "print('')\n",
        "print(f\"ROC AUC: {round(cross_val_score(rf, X, y, cv = 5, scoring = 'roc_auc').mean(), 3)}\")\n",
        "print(f\"precision: {round(cross_val_score(rf, X, y, cv = 5, scoring = 'precision').mean(), 2)}\")\n",
        "print(f\"recall: {round(cross_val_score(rf, X, y, cv = 5, scoring = 'recall').mean(), 2)}\")\n",
        "print(f\"f1: {round(cross_val_score(rf, X, y, cv = 5, scoring = 'f1').mean(), 2)}\")\n",
        "\n",
        "# Visualize confusion matrix\n",
        "plt.figure(figsize = (8, 5))\n",
        "sns.heatmap(rf_cm, cmap = 'Blues', annot = True, fmt = 'd', linewidths = 5, cbar = False, annot_kws = {'fontsize': 15},\n",
        "           yticklabels = ['Stayed', 'Left'], xticklabels = ['Predicted stayed', 'Predicted left'])\n",
        "plt.yticks(rotation = 0)\n",
        "plt.show()\n",
        "\n",
        "# Roc curve\n",
        "false_positive_rate, true_positive_rate, thresholds = roc_curve(y_test, y_prob)\n",
        "roc_auc = auc(false_positive_rate, true_positive_rate)\n",
        "\n",
        "sns.set_theme(style = 'white')\n",
        "plt.figure(figsize = (8, 8))\n",
        "plt.plot(false_positive_rate,true_positive_rate, color = '#b01717', label = 'AUC = %0.3f' % roc_auc)\n",
        "plt.legend(loc = 'lower right')\n",
        "plt.plot([0, 1], [0, 1], linestyle = '--', color = '#174ab0')\n",
        "plt.axis('tight')\n",
        "plt.ylabel('True Positive Rate')\n",
        "plt.xlabel('False Positive Rate')\n",
        "plt.show()\n",
        "\n"
      ],
      "metadata": {
        "colab": {
          "base_uri": "https://localhost:8080/",
          "height": 1000
        },
        "id": "H91Qa09CMB5B",
        "outputId": "99d7d988-efc2-4046-90dc-6a654e7b9470"
      },
      "execution_count": 11,
      "outputs": [
        {
          "output_type": "stream",
          "name": "stderr",
          "text": [
            "/usr/local/lib/python3.7/dist-packages/sklearn/metrics/_classification.py:1318: UndefinedMetricWarning: Precision is ill-defined and being set to 0.0 due to no predicted samples. Use `zero_division` parameter to control this behavior.\n",
            "  _warn_prf(average, modifier, msg_start, len(result))\n",
            "/usr/local/lib/python3.7/dist-packages/sklearn/metrics/_classification.py:1318: UndefinedMetricWarning: Precision and F-score are ill-defined and being set to 0.0 in labels with no predicted samples. Use `zero_division` parameter to control this behavior.\n",
            "  _warn_prf(average, modifier, msg_start, len(result))\n",
            "/usr/local/lib/python3.7/dist-packages/sklearn/metrics/_classification.py:1318: UndefinedMetricWarning: Precision and F-score are ill-defined and being set to 0.0 in labels with no predicted samples. Use `zero_division` parameter to control this behavior.\n",
            "  _warn_prf(average, modifier, msg_start, len(result))\n",
            "/usr/local/lib/python3.7/dist-packages/sklearn/metrics/_classification.py:1318: UndefinedMetricWarning: Precision and F-score are ill-defined and being set to 0.0 in labels with no predicted samples. Use `zero_division` parameter to control this behavior.\n",
            "  _warn_prf(average, modifier, msg_start, len(result))\n"
          ]
        },
        {
          "output_type": "stream",
          "name": "stdout",
          "text": [
            "              precision    recall  f1-score   support\n",
            "\n",
            "           0       0.90      1.00      0.95      2630\n",
            "           1       0.00      0.00      0.00       291\n",
            "\n",
            "    accuracy                           0.90      2921\n",
            "   macro avg       0.45      0.50      0.47      2921\n",
            "weighted avg       0.81      0.90      0.85      2921\n",
            "\n",
            "ROC AUC score: 0.597\n",
            "\n",
            "-----------------------------------------------------\n",
            "\n",
            "Cross-validation scores with 5 folds:\n",
            "\n",
            "ROC AUC: 0.596\n"
          ]
        },
        {
          "output_type": "stream",
          "name": "stderr",
          "text": [
            "/usr/local/lib/python3.7/dist-packages/sklearn/metrics/_classification.py:1318: UndefinedMetricWarning: Precision is ill-defined and being set to 0.0 due to no predicted samples. Use `zero_division` parameter to control this behavior.\n",
            "  _warn_prf(average, modifier, msg_start, len(result))\n",
            "/usr/local/lib/python3.7/dist-packages/sklearn/metrics/_classification.py:1318: UndefinedMetricWarning: Precision is ill-defined and being set to 0.0 due to no predicted samples. Use `zero_division` parameter to control this behavior.\n",
            "  _warn_prf(average, modifier, msg_start, len(result))\n",
            "/usr/local/lib/python3.7/dist-packages/sklearn/metrics/_classification.py:1318: UndefinedMetricWarning: Precision is ill-defined and being set to 0.0 due to no predicted samples. Use `zero_division` parameter to control this behavior.\n",
            "  _warn_prf(average, modifier, msg_start, len(result))\n",
            "/usr/local/lib/python3.7/dist-packages/sklearn/metrics/_classification.py:1318: UndefinedMetricWarning: Precision is ill-defined and being set to 0.0 due to no predicted samples. Use `zero_division` parameter to control this behavior.\n",
            "  _warn_prf(average, modifier, msg_start, len(result))\n"
          ]
        },
        {
          "output_type": "stream",
          "name": "stdout",
          "text": [
            "precision: 0.0\n",
            "recall: 0.0\n",
            "f1: 0.0\n"
          ]
        },
        {
          "output_type": "display_data",
          "data": {
            "text/plain": [
              "<Figure size 576x360 with 1 Axes>"
            ],
            "image/png": "[encoded data removed]"
          },
          "metadata": {
            "needs_background": "light"
          }
        },
        {
          "output_type": "display_data",
          "data": {
            "text/plain": [
              "<Figure size 576x576 with 1 Axes>"
            ],
            "image/png": "[encoded data removed]"
          },
          "metadata": {}
        }
      ]
    }
  ]
}